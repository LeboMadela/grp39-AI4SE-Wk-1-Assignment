{
 "cells": [
  {
   "cell_type": "code",
   "execution_count": null,
   "id": "4438051a-a436-4afb-9a89-53ab39884cba",
   "metadata": {},
   "outputs": [
    {
     "name": "stdout",
     "output_type": "stream",
     "text": [
      "ZakaBot: Dumela! Ask me about crypto trends, sustainability, or investments.\n",
      "⚠️ Crypto is risky, mfethu. Always do your own research. This ain't financial advice.\n"
     ]
    },
    {
     "name": "stdin",
     "output_type": "stream",
     "text": [
      "You:  Which crypto is the most sustainable?\n"
     ]
    },
    {
     "data": {
      "text/html": [
       "<span style='color:green'><b>Shap-Fede Boss! </b>Look at Cardano – it's the most eco-friendly crypto on the block!</span>"
      ],
      "text/plain": [
       "<IPython.core.display.HTML object>"
      ]
     },
     "metadata": {},
     "output_type": "display_data"
    },
    {
     "name": "stdin",
     "output_type": "stream",
     "text": [
      "You:  Tell me a profitable coin?\n"
     ]
    },
    {
     "data": {
      "text/html": [
       "<span style='color:green'><b>Shap-Fede Boss! </b>Bitcoin is booming and has high market value – sharp sharp!</span>"
      ],
      "text/plain": [
       "<IPython.core.display.HTML object>"
      ]
     },
     "metadata": {},
     "output_type": "display_data"
    },
    {
     "name": "stdin",
     "output_type": "stream",
     "text": [
      "You:  What about Etherium?\n"
     ]
    },
    {
     "data": {
      "text/html": [
       "<span style='color:green'><b></b>Aowa, I didn’t get that. Try ask me about trends, profits or eco coins.</span>"
      ],
      "text/plain": [
       "<IPython.core.display.HTML object>"
      ]
     },
     "metadata": {},
     "output_type": "display_data"
    }
   ],
   "source": [
    "# --------------------------------------------------------------------------------------\n",
    "# ZakaBot: Rule-Based Crypto Chatbot\n",
    "# Author: Group 39 - AI 4 Software Engineering Assignment (AI/ML, Chatbots)\n",
    "# Description: Rule-based Python chatbot to offer crypto investment advice\n",
    "# --------------------------------------------------------------------------------------\n",
    "\n",
    "# Chatbot response styling\n",
    "from IPython.display import display, HTML\n",
    "\n",
    "# Step 1: Define the crypto dataset\n",
    "crypto_db = {\n",
    "    \"Bitcoin\": {\n",
    "        \"price_trend\": \"rising\",\n",
    "        \"market_cap\": \"high\",\n",
    "        \"energy_use\": \"high\",\n",
    "        \"sustainability_score\": 3 / 10\n",
    "    },\n",
    "    \"Ethereum\": {\n",
    "        \"price_trend\": \"stable\",\n",
    "        \"market_cap\": \"high\",\n",
    "        \"energy_use\": \"medium\",\n",
    "        \"sustainability_score\": 6 / 10\n",
    "    },\n",
    "    \"Cardano\": {\n",
    "        \"price_trend\": \"rising\",\n",
    "        \"market_cap\": \"medium\",\n",
    "        \"energy_use\": \"low\",\n",
    "        \"sustainability_score\": 8 / 10\n",
    "    }\n",
    "}\n",
    "\n",
    "# Step 2: Bot personality\n",
    "bot_name = \"ZakaBot\"\n",
    "bot_tone = \"informative, funny and friendly\"  # Options: 'informative, funny and friendly', 'professional'\n",
    "\n",
    "# Step 3: Tone-based response wrapper\n",
    "def respond(message, is_fallback=False):\n",
    "    if is_fallback:\n",
    "        greeting = \"\"  # No greeting for fallback messages\n",
    "    elif bot_tone == \"informative, funny and friendly\":\n",
    "        greeting = \"Shap-Fede Boss! \"\n",
    "    elif bot_tone == \"professional\":\n",
    "        greeting = f\"{bot_name}: \"\n",
    "    else:\n",
    "        greeting = \"\"\n",
    "\n",
    "    styled_message = f\"<span style='color:green'><b>{greeting}</b>{message}</span>\"\n",
    "    return HTML(styled_message)\n",
    "\n",
    "# Step 4: Core chatbot logic — keyword matching and rule-based recommendations\n",
    "def handle_query(user_query):\n",
    "    user_query = user_query.lower()\n",
    "\n",
    "    if \"sustainable\" in user_query or \"eco\" in user_query:\n",
    "        recommended = max(crypto_db, key=lambda x: crypto_db[x][\"sustainability_score\"])\n",
    "        return f\"Look at {recommended} – it's the most eco-friendly crypto on the block!\", False\n",
    "\n",
    "    elif \"profitable\" in user_query or \"best to invest\" in user_query:\n",
    "        for name, data in crypto_db.items():\n",
    "            if data[\"price_trend\"] == \"rising\" and data[\"market_cap\"] == \"high\":\n",
    "                return f\"{name} is booming and has high market value – sharp sharp!\", False\n",
    "\n",
    "    elif \"long-term\" in user_query or \"growth\" in user_query:\n",
    "        for name, data in crypto_db.items():\n",
    "            if data[\"price_trend\"] == \"rising\" and data[\"sustainability_score\"] > 0.7:\n",
    "                return f\"{name} is on the rise and sustainable too. Good for long-term stacking!\", False\n",
    "\n",
    "    elif \"trending\" in user_query or \"rising\" in user_query:\n",
    "        trending_coins = [name for name, data in crypto_db.items() if data[\"price_trend\"] == \"rising\"]\n",
    "        return f\"Right now, these are on fire: {', '.join(trending_coins)}\", False\n",
    "\n",
    "    # Fallback message (no greeting)\n",
    "    return \"Aowa, I didn’t get that. Try ask me about trends, profits or eco coins.\", True\n",
    "\n",
    "# Step 5: Disclaimer function\n",
    "def disclaimer():\n",
    "    return \"⚠️ Crypto is risky, mfethu. Always do your own research. This ain't financial advice.\"\n",
    "\n",
    "# Step 6: Run a chatbot loop (for local notebook testing)\n",
    "def run_chat():\n",
    "    print(f\"{bot_name}: Dumela! Ask me about crypto trends, sustainability, or investments.\")\n",
    "    print(disclaimer())\n",
    "\n",
    "    while True:\n",
    "        user_input = input(\"You: \")\n",
    "        if user_input.lower() in [\"exit\", \"quit\"]:\n",
    "            display(respond(\"Hamba kahle and invest smart!\"))\n",
    "            break\n",
    "\n",
    "        raw_reply, is_fallback = handle_query(user_input)\n",
    "        display(respond(raw_reply, is_fallback))\n",
    "\n",
    "# Call the chatbot\n",
    "run_chat()"
   ]
  },
  {
   "cell_type": "code",
   "execution_count": null,
   "id": "22c9a60b-a773-4026-9511-4bb6a2155016",
   "metadata": {},
   "outputs": [],
   "source": []
  }
 ],
 "metadata": {
  "kernelspec": {
   "display_name": "anaconda-panel-2023.05-py310",
   "language": "python",
   "name": "conda-env-anaconda-panel-2023.05-py310-py"
  },
  "language_info": {
   "codemirror_mode": {
    "name": "ipython",
    "version": 3
   },
   "file_extension": ".py",
   "mimetype": "text/x-python",
   "name": "python",
   "nbconvert_exporter": "python",
   "pygments_lexer": "ipython3",
   "version": "3.11.5"
  }
 },
 "nbformat": 4,
 "nbformat_minor": 5
}
